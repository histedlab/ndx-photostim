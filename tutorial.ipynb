{
 "cells": [
  {
   "cell_type": "markdown",
   "metadata": {},
   "source": [
    "# ndx-photostim tutorial\n",
    "\n",
    "In the following tutorial, we demonstrate use of the `ndx-photostim` extension to the NWB data standard. Specifically we:\n",
    "1. Create `SpatialLightModulator` and `PhotostimulationDevice` containers, representing the devices used in the paradigm.\n",
    "2. Use the `HolographicPattern` object to store the photostimulation stimuli\n",
    "3. Record the time series of stimulus presentation with the `PresentationSeries` container\n",
    "4. Record all photostimulation data for a given experiment using a proecessing module and the `PresentationTable` container\n",
    "5. Write all devices, stimuli, and presentation tables to an `.nwb` file and confirm it can be read back"
   ]
  },
  {
   "cell_type": "markdown",
   "metadata": {},
   "source": [
    "First, we import then necessary files and create an empty `NWBFile`."
   ]
  },
  {
   "cell_type": "code",
   "execution_count": 1,
   "metadata": {
    "collapsed": false,
    "jupyter": {
     "outputs_hidden": false
    }
   },
   "outputs": [],
   "source": [
    "from pynwb import NWBFile, NWBHDF5IO\n",
    "from ndx_photostim import SpatialLightModulator, Laser, PhotostimulationMethod, HolographicPattern, \\\n",
    "        PhotostimulationSeries, PhotostimulationTable\n",
    "import numpy as np\n",
    "from dateutil.tz import tzlocal\n",
    "from datetime import datetime\n",
    "\n",
    "nwbfile = NWBFile('my first synthetic recording','EXAMPLE_ID',datetime.now(tzlocal()))"
   ]
  },
  {
   "cell_type": "markdown",
   "metadata": {},
   "source": [
    "## Spatial light modulator and laser\n",
    "\n",
    "We begin by creating optional `SpatialLightModulator` and `Laser` containers, to represent the spatial light modulator and laser used in the stimulation paradigm, respectively."
   ]
  },
  {
   "cell_type": "code",
   "execution_count": 2,
   "metadata": {
    "collapsed": false,
    "jupyter": {
     "outputs_hidden": false
    }
   },
   "outputs": [],
   "source": [
    "slm = SpatialLightModulator(name='slm',\n",
    "                            model='Meadowlark',\n",
    "                            size=np.array([512, 512])\n",
    "                           )\n",
    "\n",
    "laser = Laser(name='laser',\n",
    "              model='Coherent Monaco',\n",
    "              wavelength=1030,\n",
    "              power=8,\n",
    "              peak_pulse_energy=20,\n",
    "              pulse_rate=500\n",
    "             )"
   ]
  },
  {
   "cell_type": "markdown",
   "metadata": {},
   "source": [
    "## PhotostimulationMethod\n",
    "\n",
    "We can then add these to a `PhotostimulationMethod` using the `add_slm` and `add_laser` methods."
   ]
  },
  {
   "cell_type": "code",
   "execution_count": 3,
   "metadata": {
    "collapsed": false,
    "jupyter": {
     "outputs_hidden": false
    }
   },
   "outputs": [
    {
     "name": "stdout",
     "output_type": "stream",
     "text": [
      "methodA ndx_photostim.photostim.PhotostimulationMethod at 0x140332833714960\n",
      "Fields:\n",
      "  laser: laser ndx_photostim.photostim.Laser at 0x140333635188624\n",
      "Fields:\n",
      "  model: Coherent Monaco\n",
      "  peak_pulse_energy: 20\n",
      "  power: 8\n",
      "  pulse_rate: 500\n",
      "  wavelength: 1030\n",
      "\n",
      "  num_sweeps: 0\n",
      "  power_per_target: 8\n",
      "  slm: slm ndx_photostim.photostim.SpatialLightModulator at 0x140333635188720\n",
      "Fields:\n",
      "  model: Meadowlark\n",
      "  size: [512 512]\n",
      "\n",
      "  stimulus_method: scanless\n",
      "  sweep_pattern: none\n",
      "  sweep_size: 0\n",
      "  time_per_sweep: 0\n",
      "\n"
     ]
    }
   ],
   "source": [
    "ps_method = PhotostimulationMethod(name=\"methodA\",\n",
    "                                   stimulus_method=\"scanless\",\n",
    "                                   sweep_pattern=\"none\",\n",
    "                                   sweep_size=0,\n",
    "                                   time_per_sweep=0,\n",
    "                                   num_sweeps=0,\n",
    "                                   power_per_target=8\n",
    "                                  )\n",
    "ps_method.add_slm(slm)\n",
    "ps_method.add_laser(laser)\n",
    "print(ps_method)"
   ]
  },
  {
   "cell_type": "markdown",
   "metadata": {},
   "source": [
    "## Holographic stimulation pattern\n",
    "\n",
    "The container `HolographicPattern` is used to store data corresponding to the pattern of stimulation for a given trial. The primary\n",
    "input to the function is a set of ROIs, that denote whether a given pixel is stimulated (encoded as 1) or not stimulated (encoded as 0)\n",
    "when that stimulus is presented. There are two ways to specify the ROIs: as an `image_mask_roi` or a `pixel_roi` (described below)."
   ]
  },
  {
   "cell_type": "markdown",
   "metadata": {},
   "source": [
    "### ROIs specified using an image mask\n",
    "\n",
    "In the `image_mask_roi`, the input to `HolographicPattern` is an array or list with dimensionality `[width, height]` or `[width, height, depth`] covering the entire field of view. ROIs that are stimulated are encoded by 1 values, and unstimulated regions by zeros.\n",
    "\n",
    "In the example below, we simulate a `[50, 50]` pixel field of view, and randomly select 5 ROIs with a width and height of 5 pixels. To store the pattern in a `HolographicPattern` object, we use specify the ROIs using the `mask_roi` input argument on construction. A helper method `show_mask()` shows the simulated stimulated regions."
   ]
  },
  {
   "cell_type": "code",
   "execution_count": 4,
   "metadata": {
    "collapsed": false,
    "jupyter": {
     "outputs_hidden": false
    }
   },
   "outputs": [
    {
     "data": {
      "image/png": "[encoded data removed]",
      "text/plain": [
       "<Figure size 432x288 with 1 Axes>"
      ]
     },
     "metadata": {
      "needs_background": "light"
     },
     "output_type": "display_data"
    }
   ],
   "source": [
    "image_mask_roi = np.zeros((50, 50))\n",
    "\n",
    "n_rois = 5\n",
    "for _ in range(n_rois):\n",
    "    x = np.random.randint(0, 45)\n",
    "    y = np.random.randint(0, 45)\n",
    "    image_mask_roi[x:x + 5, y:y + 5] = 1\n",
    "\n",
    "hp_1 = HolographicPattern(name='pattern 1',\n",
    "                          image_mask_roi=image_mask_roi,\n",
    "                          stim_duration=0.300,\n",
    "                          method=ps_method\n",
    "                         )\n",
    "\n",
    "hp_1.show_mask()"
   ]
  },
  {
   "cell_type": "markdown",
   "metadata": {},
   "source": [
    "### ROIs specified by the center and diameter of each region\n",
    "\n",
    "Additionally, we provide a second method for specifying ROIs, the `pixel_roi`. `pixel_roi` inputs are a two- or three-dimensional vector of size `[num_rois, 3]` (in 2D stimulation) or `[num_rois, 4]` (in 3D stimulation). In the 2D case, `pixel_roi` takes the form `[(x1, y1), (x2, y2), ...]`, where `x` and `y` values correspond with the center of the ROI (in pixels). Similarly, in the 3D case, each element in the input takes the form `(x, y, z)`, where `z` denotes the depth of stimulation.\n",
    "\n",
    "As compared to `image_mask_roi`, `pixel_roi` construction require two additional specifications: `stimulation_diameter` and `dimension`. `stimulation_diameter` denotes, in pixels, the radius of the ROI centered at input location `(x, y)` or `(x, y, z)`. That is, each row of `pixel_roi` corresponds to an ROI at a given location, extending `stimulation_diameter` pixels in every direction. Additionally, the dimensions of the field of view, in pixels, must be specified by the `dimension` parameter, where `dimension=[width, height]` or `[width, height, depth]`.\n",
    "\n",
    "An example of a `HolographicPattern` with a `pixel_roi` input is shown below. This example includes 5 randomly-selected ROIs in a `[100, 100]` field of view, with a `stimulation_diameter` of 8 pixels. We use the helper function `show_mask()` to visualize the pattern."
   ]
  },
  {
   "cell_type": "code",
   "execution_count": 5,
   "metadata": {
    "collapsed": false,
    "jupyter": {
     "outputs_hidden": false
    }
   },
   "outputs": [
    {
     "data": {
      "image/png": "[encoded data removed]",
      "text/plain": [
       "<Figure size 432x288 with 1 Axes>"
      ]
     },
     "metadata": {
      "needs_background": "light"
     },
     "output_type": "display_data"
    }
   ],
   "source": [
    "pixel_roi = []\n",
    "\n",
    "for i in range(5):\n",
    "    x = np.random.randint(0, 95)\n",
    "    y = np.random.randint(0, 95)\n",
    "\n",
    "    for ix in range(x, x + 1):\n",
    "        for iy in range(y, y + 1):\n",
    "            pixel_roi.append((ix, iy))\n",
    "\n",
    "hp_2 = HolographicPattern(name='pattern 2',\n",
    "                          pixel_roi=pixel_roi,\n",
    "                          roi_size=8,\n",
    "                          dimension=[100, 100],\n",
    "                          stim_duration=0.300,\n",
    "                          method=ps_method\n",
    "                         )\n",
    "hp_2.show_mask()"
   ]
  },
  {
   "cell_type": "markdown",
   "metadata": {},
   "source": [
    "Alternatively, ROIs can also be specified as rectangles (2D) or cuboids (3D) via two- or three-dimensional `roi_size` inputs, with format `[width, height]` or `[width, height, depth]`."
   ]
  },
  {
   "cell_type": "code",
   "execution_count": 6,
   "metadata": {
    "collapsed": false,
    "jupyter": {
     "outputs_hidden": false
    }
   },
   "outputs": [
    {
     "data": {
      "image/png": "[encoded data removed]",
      "text/plain": [
       "<Figure size 432x288 with 1 Axes>"
      ]
     },
     "metadata": {
      "needs_background": "light"
     },
     "output_type": "display_data"
    }
   ],
   "source": [
    "pixel_roi = []\n",
    "\n",
    "for i in range(5):\n",
    "    x = np.random.randint(0, 95)\n",
    "    y = np.random.randint(0, 95)\n",
    "\n",
    "    for ix in range(x, x + 1):\n",
    "        for iy in range(y, y + 1):\n",
    "            pixel_roi.append((ix, iy))\n",
    "\n",
    "hp_2 = HolographicPattern(name='pattern 2',\n",
    "                          pixel_roi=pixel_roi,\n",
    "                          roi_size=[6, 2],\n",
    "                          dimension=[100, 100],\n",
    "                          stim_duration=0.300,\n",
    "                          method=ps_method\n",
    "                         )\n",
    "hp_2.show_mask()"
   ]
  },
  {
   "cell_type": "markdown",
   "metadata": {},
   "source": [
    "## Stimulation series\n",
    "\n",
    "The presentation of a given stimulation pattern over time is stored via the `PhotostimulationSeries` container.\n",
    "\n"
   ]
  },
  {
   "cell_type": "markdown",
   "metadata": {},
   "source": [
    "### Interval format\n",
    "\n",
    "In the `'interval'` format, we store the onset and end of stimulus presentation using a 1D array consisting of the values 1 (stimulus on) and -1 (stimulus off). The corresponding times for the start and stop of the stimulus are specified via the `timestamps` property, where `data[i]==1` denotes that the stimulus was presented at time `timestamps[i]`, and `data[i+1]==-1` denotes it stopped at time `timestamps[i+1]` (time is specified in seconds). For example, in the cell below, we note that pattern `hp_1` was presented from seconds `0.5` to `1`, and then again from seconds `2` to `4`."
   ]
  },
  {
   "cell_type": "code",
   "execution_count": 7,
   "metadata": {
    "collapsed": false,
    "jupyter": {
     "outputs_hidden": false
    }
   },
   "outputs": [],
   "source": [
    "stim_series_1 = PhotostimulationSeries(name=\"series_1\",\n",
    "                                       format='interval',\n",
    "                                       data=[1, -1, 1, -1],\n",
    "                                       timestamps=[0.5, 1., 2., 4.],\n",
    "                                       pattern=hp_1\n",
    "                                      )"
   ]
  },
  {
   "cell_type": "markdown",
   "metadata": {},
   "source": [
    "While we can specify the `data` and `timestamps` directly, we can also initialize an empty `PhotostimulationSeries` (by not providing a `data` or `timestamps` input), and use the function `add_interval(start, stop)` to store the presentation of the stimulus from time `start` to time `stop`. In the example below, the first call indicates presentation of the stimulus between seconds `10` and `20`, and then again from seconds `35` to `40`. We can call the helper method `to_dataframe()` to display `data` and `timestamps` simultaneously."
   ]
  },
  {
   "cell_type": "code",
   "execution_count": 8,
   "metadata": {
    "collapsed": false,
    "jupyter": {
     "outputs_hidden": false
    }
   },
   "outputs": [
    {
     "name": "stdout",
     "output_type": "stream",
     "text": [
      "   data  timestamps\n",
      "0     1        10.0\n",
      "1    -1        20.0\n",
      "2     1        35.0\n",
      "3    -1        40.0\n"
     ]
    }
   ],
   "source": [
    "stim_series_2 = PhotostimulationSeries(name=\"series_2\",\n",
    "                                       format='interval',\n",
    "                                       pattern=hp_2\n",
    "                                      )\n",
    "stim_series_2.add_interval(10., 20.)\n",
    "stim_series_2.add_interval(35., 40.)\n",
    "\n",
    "print(stim_series_2.to_dataframe())"
   ]
  },
  {
   "cell_type": "markdown",
   "metadata": {},
   "source": [
    "### Series format\n",
    "\n",
    "In addition to the interval format, we can also encode presentation time series data as a \"series.\" In this format, rather than indicating the start and stop of stimulation,`data` consists of a 1D array of 0s and 1s denoting whether a stimulus was on or off at a given time step. In the example below, we note that the data is `[0, 1, 0, 1, 1, 0]`, the rate (i.e., the rate at which data are sampled, in Hz) is `10`, and the `stimulus_duration` is `0.05` (meaning that, at each time point where the stimulus is \"on\", denoted by a value of 1, it remains on for 0.05 seconds). In the case of the fourth element (`data[3]=1`), for example, the `rate` indicates that this point corresponds to 0.4 seconds into the trial (since `rate=10`, meaning there are 10 evenly-sampled data points per second). Since the value of the element is `1`, the stimulus was presented at that time, for `stimulus_duration=0.05` seconds. Expressed as an interval, the fourth time step indicates the stimulus was presented from *t*=0.4 to *t=0.05*.\n",
    "\n",
    "While less easily interpretable, we include `format='series'` as an option for the time series format because it may more closely align with the data collection modalities used in photostimulation methods."
   ]
  },
  {
   "cell_type": "code",
   "execution_count": 9,
   "metadata": {
    "collapsed": false,
    "jupyter": {
     "outputs_hidden": false
    }
   },
   "outputs": [
    {
     "name": "stdout",
     "output_type": "stream",
     "text": [
      "   data  timestamps\n",
      "0   0.0         0.0\n",
      "1   1.0         0.1\n",
      "2   0.0         0.2\n",
      "3   1.0         0.3\n",
      "4   1.0         0.4\n",
      "5   0.0         0.5\n"
     ]
    }
   ],
   "source": [
    "stim_series_3 = PhotostimulationSeries(name=\"series_3\",\n",
    "                                       pattern=hp_1,\n",
    "                                       format='series',\n",
    "                                       stim_duration=0.05,\n",
    "                                       data=[0., 1., 0., 1., 1., 0.],\n",
    "                                       rate=10.,\n",
    "                                      )\n",
    "print(stim_series_3.to_dataframe())"
   ]
  },
  {
   "cell_type": "markdown",
   "metadata": {},
   "source": [
    "In the example above, we use the `rate` parameter instead of `timestamps` to express the times `data` correspond to. In the `'series'` format, we can still specify timestamps directly, as we did for the interval series. Here, the data `data[i]` corresponds to an interval beginning at time `timestamps[i]` and ending at time `timestamps[i]+stimulus_duration`. Note that `PhotostimulationSeries` requires one of either `rate` or `timestamps` to be specified for the series format, in order for data to be added.\n",
    "\n",
    "In addition to adding data directly, we can also add data using the `add_onset(time)` method, which denotes the onset of the stimulus at time `time` (for duration `stimulus_duration`)."
   ]
  },
  {
   "cell_type": "code",
   "execution_count": 10,
   "metadata": {
    "collapsed": false,
    "jupyter": {
     "outputs_hidden": false
    }
   },
   "outputs": [
    {
     "name": "stdout",
     "output_type": "stream",
     "text": [
      "   data  timestamps\n",
      "0     0         0.0\n",
      "1     1         0.5\n",
      "2     0         2.0\n",
      "3     1         4.0\n",
      "4     1         5.0\n",
      "5     1        10.0\n",
      "6     1        14.0\n",
      "7     1        50.0\n"
     ]
    }
   ],
   "source": [
    "stim_series_4 = PhotostimulationSeries(name=\"series_4\",\n",
    "                                       pattern=hp_2,\n",
    "                                       format='series',\n",
    "                                       stim_duration=0.05,\n",
    "                                       data=[0, 1, 0, 1],\n",
    "                                       timestamps=[0., 0.5, 2., 4.],\n",
    "                                      )\n",
    "stim_series_4.add_onset(5)\n",
    "stim_series_4.add_onset([10, 14, 50])\n",
    "print(stim_series_4.to_dataframe())"
   ]
  },
  {
   "cell_type": "markdown",
   "metadata": {},
   "source": [
    "The `add_onset` function also works for the `'interval'` format:"
   ]
  },
  {
   "cell_type": "code",
   "execution_count": 11,
   "metadata": {
    "collapsed": false,
    "jupyter": {
     "outputs_hidden": false
    }
   },
   "outputs": [
    {
     "name": "stdout",
     "output_type": "stream",
     "text": [
      "   data  timestamps\n",
      "0     1           1\n",
      "1    -1           3\n",
      "2     1          10\n",
      "3    -1          12\n",
      "4     1          18\n",
      "5    -1          20\n",
      "6     1          24\n",
      "7    -1          26\n"
     ]
    }
   ],
   "source": [
    "stim_series_5 = PhotostimulationSeries(name=\"series_5\",\n",
    "                                       format='interval',\n",
    "                                       pattern=hp_1,\n",
    "                                       stim_duration=2\n",
    "                                      )\n",
    "stim_series_5.add_onset(1)\n",
    "stim_series_5.add_onset([10, 18, 24])\n",
    "print(stim_series_5.to_dataframe())"
   ]
  },
  {
   "cell_type": "markdown",
   "metadata": {},
   "source": [
    "We then have to add each stimulus to the NWB file (to prevent parent/child errors below)."
   ]
  },
  {
   "cell_type": "code",
   "execution_count": 12,
   "metadata": {
    "collapsed": false,
    "jupyter": {
     "outputs_hidden": false
    }
   },
   "outputs": [],
   "source": [
    "for stim in [stim_series_1, stim_series_2, stim_series_3, stim_series_4, stim_series_5]:\n",
    "    nwbfile.add_stimulus(stim)"
   ]
  },
  {
   "cell_type": "markdown",
   "metadata": {},
   "source": [
    "## PhotostimulationTable\n",
    "\n",
    "We store all the series and associated metadata for a given experiment in a `PhotostimulationTable`. The table constructor table takes as inputs the device used in simulation (`photostimulation_device`), as well as optional collection parameters (`stimulus_method`, `sweep_pattern`, `time_per_sweep` and `num_sweeps`). To add the `PhotostimulationSeries` containers, we call the `add_series` function, specifying a list of `PhotostimulationSeries` objects, as well as an optional list of names for each row. To display the table contents, we call the function `to_dataframe()` on the table."
   ]
  },
  {
   "cell_type": "code",
   "execution_count": 13,
   "metadata": {
    "collapsed": false,
    "jupyter": {
     "outputs_hidden": false
    }
   },
   "outputs": [
    {
     "name": "stdout",
     "output_type": "stream",
     "text": [
      "   row_name                                             series series_name  \\\n",
      "id                                                                           \n",
      "0     row_0  series_1 ndx_photostim.photostim.Photostimulat...    series_1   \n",
      "1     row_1  series_2 ndx_photostim.photostim.Photostimulat...    series_2   \n",
      "2     row_2  series_3 ndx_photostim.photostim.Photostimulat...    series_3   \n",
      "3     row_3  series_4 ndx_photostim.photostim.Photostimulat...    series_4   \n",
      "4     row_4  series_5 ndx_photostim.photostim.Photostimulat...    series_5   \n",
      "\n",
      "   series_format  num_samples  start_time  stop_time pattern_name method_name  \n",
      "id                                                                             \n",
      "0       interval            4         0.0       4.00    pattern 1     methodA  \n",
      "1       interval            4         0.0      40.00    pattern 2     methodA  \n",
      "2         series            6         0.0       0.25    pattern 1     methodA  \n",
      "3         series            8         0.0      50.00    pattern 2     methodA  \n",
      "4       interval            8         0.0      26.00    pattern 1     methodA  \n"
     ]
    }
   ],
   "source": [
    "sp = PhotostimulationTable(name='test', description='test desc')\n",
    "sp.add_series(series=[stim_series_1, stim_series_2, stim_series_3, stim_series_4, stim_series_5],\n",
    "              row_name=['row_0', 'row_1', 'row_2', 'row_3', 'row_4']\n",
    "             )\n",
    "print(sp.to_dataframe())"
   ]
  },
  {
   "cell_type": "markdown",
   "metadata": {},
   "source": [
    "### Plotting PhotostimulationTable timestamps\n",
    "\n",
    "The timestamps for each series in the `PhotostimulationTable` can be plotted simultaneously using the visualization function `plot()`."
   ]
  },
  {
   "cell_type": "code",
   "execution_count": 14,
   "metadata": {
    "collapsed": false,
    "jupyter": {
     "outputs_hidden": false
    }
   },
   "outputs": [
    {
     "data": {
      "text/plain": [
       "<Axes: title={'center': \"Presentation timestamps for PhotostimulationTable 'test'\"}, xlabel='Timestamp (seconds)'>"
      ]
     },
     "execution_count": 14,
     "metadata": {},
     "output_type": "execute_result"
    },
    {
     "data": {
      "image/png": "[encoded data removed]",
      "text/plain": [
       "<Figure size 432x288 with 1 Axes>"
      ]
     },
     "metadata": {
      "needs_background": "light"
     },
     "output_type": "display_data"
    }
   ],
   "source": [
    "sp.plot_presentation_times()"
   ]
  },
  {
   "cell_type": "markdown",
   "metadata": {},
   "source": [
    "### Creating a photostimulation processing module\n",
    "\n",
    "We then save the table to an `NWBFile` by creating a processing module, as shown below."
   ]
  },
  {
   "cell_type": "code",
   "execution_count": 15,
   "metadata": {
    "collapsed": false,
    "jupyter": {
     "outputs_hidden": false
    }
   },
   "outputs": [
    {
     "data": {
      "text/plain": [
       "test ndx_photostim.photostim.PhotostimulationTable at 0x140333635188960\n",
       "Fields:\n",
       "  colnames: ['row_name' 'series' 'series_name' 'series_format' 'num_samples'\n",
       " 'start_time' 'stop_time' 'pattern_name' 'method_name']\n",
       "  columns: (\n",
       "    row_name <class 'hdmf.common.table.VectorData'>,\n",
       "    series <class 'hdmf.common.table.VectorData'>,\n",
       "    series_name <class 'hdmf.common.table.VectorData'>,\n",
       "    series_format <class 'hdmf.common.table.VectorData'>,\n",
       "    num_samples <class 'hdmf.common.table.VectorData'>,\n",
       "    start_time <class 'hdmf.common.table.VectorData'>,\n",
       "    stop_time <class 'hdmf.common.table.VectorData'>,\n",
       "    pattern_name <class 'hdmf.common.table.VectorData'>,\n",
       "    method_name <class 'hdmf.common.table.VectorData'>\n",
       "  )\n",
       "  description: test desc\n",
       "  id: id <class 'hdmf.common.table.ElementIdentifiers'>"
      ]
     },
     "execution_count": 15,
     "metadata": {},
     "output_type": "execute_result"
    }
   ],
   "source": [
    "module = nwbfile.create_processing_module(name=\"photostimulation\", description=\"example photostimulation table\")\n",
    "module.add(sp)"
   ]
  },
  {
   "cell_type": "markdown",
   "metadata": {},
   "source": [
    "## Writing the file\n",
    "\n",
    "We can then write `nwbfile` file to an `.nwb` file as follows:"
   ]
  },
  {
   "cell_type": "code",
   "execution_count": 16,
   "metadata": {
    "collapsed": false,
    "jupyter": {
     "outputs_hidden": false
    }
   },
   "outputs": [
    {
     "name": "stderr",
     "output_type": "stream",
     "text": [
      "/Users/lafossepk/anaconda3/envs/mh38a/lib/python3.8/site-packages/hdmf/build/objectmapper.py:260: DtypeConversionWarning: Spec 'PhotostimulationSeries/timestamps': Value with data type int64 is being converted to data type float64 as specified.\n",
      "  warnings.warn(full_warning_msg, DtypeConversionWarning)\n"
     ]
    }
   ],
   "source": [
    "with NWBHDF5IO(\"basics_tutorial.nwb\", \"w\") as io:\n",
    "    io.write(nwbfile)"
   ]
  },
  {
   "cell_type": "markdown",
   "metadata": {},
   "source": [
    "## Reading the file\n",
    "\n",
    "We can then check that the file was saved correctly by reading it back, and accessing the \"`photostimulation`\" processing module."
   ]
  },
  {
   "cell_type": "code",
   "execution_count": 17,
   "metadata": {
    "collapsed": false,
    "jupyter": {
     "outputs_hidden": false
    }
   },
   "outputs": [
    {
     "name": "stdout",
     "output_type": "stream",
     "text": [
      "root pynwb.file.NWBFile at 0x140332288014464\n",
      "Fields:\n",
      "  file_create_date: [datetime.datetime(2023, 12, 15, 13, 26, 57, 355162, tzinfo=tzoffset(None, -18000))]\n",
      "  identifier: EXAMPLE_ID\n",
      "  processing: {\n",
      "    photostimulation <class 'pynwb.base.ProcessingModule'>\n",
      "  }\n",
      "  session_description: my first synthetic recording\n",
      "  session_start_time: 2023-12-15 13:26:57.354959-05:00\n",
      "  stimulus: {\n",
      "    series_1 <class 'ndx_photostim.photostim.PhotostimulationSeries'>,\n",
      "    series_2 <class 'ndx_photostim.photostim.PhotostimulationSeries'>,\n",
      "    series_3 <class 'ndx_photostim.photostim.PhotostimulationSeries'>,\n",
      "    series_4 <class 'ndx_photostim.photostim.PhotostimulationSeries'>,\n",
      "    series_5 <class 'ndx_photostim.photostim.PhotostimulationSeries'>\n",
      "  }\n",
      "  timestamps_reference_time: 2023-12-15 13:26:57.354959-05:00\n",
      "\n",
      "photostimulation pynwb.base.ProcessingModule at 0x140332017058000\n",
      "Fields:\n",
      "  data_interfaces: {\n",
      "    test <class 'ndx_photostim.photostim.PhotostimulationTable'>\n",
      "  }\n",
      "  description: example photostimulation table\n",
      "\n"
     ]
    }
   ],
   "source": [
    "with NWBHDF5IO(\"basics_tutorial.nwb\", \"r\", load_namespaces=True) as io:\n",
    "    read_nwbfile = io.read()\n",
    "print(read_nwbfile)\n",
    "print(read_nwbfile.processing['photostimulation'])"
   ]
  },
  {
   "cell_type": "code",
   "execution_count": null,
   "metadata": {},
   "outputs": [],
   "source": []
  }
 ],
 "metadata": {
  "kernelspec": {
   "display_name": "Python 3 (ipykernel)",
   "language": "python",
   "name": "python3"
  },
  "language_info": {
   "codemirror_mode": {
    "name": "ipython",
    "version": 3
   },
   "file_extension": ".py",
   "mimetype": "text/x-python",
   "name": "python",
   "nbconvert_exporter": "python",
   "pygments_lexer": "ipython3",
   "version": "3.8.10"
  }
 },
 "nbformat": 4,
 "nbformat_minor": 4
}
